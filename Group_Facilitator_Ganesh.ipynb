{
 "cells": [
  {
   "cell_type": "code",
   "execution_count": 92,
   "id": "9f09d251",
   "metadata": {},
   "outputs": [],
   "source": [
    "import pandas as pd\n",
    "import matplotlib.pyplot as plt\n",
    "import seaborn as sns\n",
    "import numpy as np"
   ]
  },
  {
   "cell_type": "code",
   "execution_count": 168,
   "id": "08d9a4e6",
   "metadata": {},
   "outputs": [
    {
     "name": "stderr",
     "output_type": "stream",
     "text": [
      "C:\\Users\\SunaynaPC\\AppData\\Local\\Temp\\ipykernel_27728\\3462665596.py:4: FutureWarning: Passing a negative integer is deprecated in version 1.0 and will not be supported in future version. Instead, use None to not limit the column width.\n",
      "  pd.set_option('display.max_colwidth', -1)\n"
     ]
    }
   ],
   "source": [
    "# pd.set_option('display.max_rows', None)\n",
    "# pd.set_option('display.max_columns', None)\n",
    "# pd.set_option('display.width', None)\n",
    "# pd.set_option('display.max_colwidth', -1)"
   ]
  },
  {
   "cell_type": "markdown",
   "id": "80ac80d8",
   "metadata": {},
   "source": [
    "#### Data Understanding"
   ]
  },
  {
   "cell_type": "code",
   "execution_count": 93,
   "id": "c49097db",
   "metadata": {
    "scrolled": false
   },
   "outputs": [
    {
     "name": "stderr",
     "output_type": "stream",
     "text": [
      "C:\\Users\\SunaynaPC\\AppData\\Local\\Temp\\ipykernel_36296\\4245973293.py:1: DtypeWarning: Columns (47) have mixed types. Specify dtype option on import or set low_memory=False.\n",
      "  loan = pd.read_csv('C:\\\\Users\\\\SunaynaPC\\\\Downloads\\\\loan\\\\loan.csv')\n"
     ]
    },
    {
     "data": {
      "text/html": [
       "<div>\n",
       "<style scoped>\n",
       "    .dataframe tbody tr th:only-of-type {\n",
       "        vertical-align: middle;\n",
       "    }\n",
       "\n",
       "    .dataframe tbody tr th {\n",
       "        vertical-align: top;\n",
       "    }\n",
       "\n",
       "    .dataframe thead th {\n",
       "        text-align: right;\n",
       "    }\n",
       "</style>\n",
       "<table border=\"1\" class=\"dataframe\">\n",
       "  <thead>\n",
       "    <tr style=\"text-align: right;\">\n",
       "      <th></th>\n",
       "      <th>id</th>\n",
       "      <th>member_id</th>\n",
       "      <th>loan_amnt</th>\n",
       "      <th>funded_amnt</th>\n",
       "      <th>funded_amnt_inv</th>\n",
       "      <th>term</th>\n",
       "      <th>int_rate</th>\n",
       "      <th>installment</th>\n",
       "      <th>grade</th>\n",
       "      <th>sub_grade</th>\n",
       "      <th>...</th>\n",
       "      <th>num_tl_90g_dpd_24m</th>\n",
       "      <th>num_tl_op_past_12m</th>\n",
       "      <th>pct_tl_nvr_dlq</th>\n",
       "      <th>percent_bc_gt_75</th>\n",
       "      <th>pub_rec_bankruptcies</th>\n",
       "      <th>tax_liens</th>\n",
       "      <th>tot_hi_cred_lim</th>\n",
       "      <th>total_bal_ex_mort</th>\n",
       "      <th>total_bc_limit</th>\n",
       "      <th>total_il_high_credit_limit</th>\n",
       "    </tr>\n",
       "  </thead>\n",
       "  <tbody>\n",
       "    <tr>\n",
       "      <th>0</th>\n",
       "      <td>1077501</td>\n",
       "      <td>1296599</td>\n",
       "      <td>5000</td>\n",
       "      <td>5000</td>\n",
       "      <td>4975.0</td>\n",
       "      <td>36 months</td>\n",
       "      <td>10.65%</td>\n",
       "      <td>162.87</td>\n",
       "      <td>B</td>\n",
       "      <td>B2</td>\n",
       "      <td>...</td>\n",
       "      <td>NaN</td>\n",
       "      <td>NaN</td>\n",
       "      <td>NaN</td>\n",
       "      <td>NaN</td>\n",
       "      <td>0.0</td>\n",
       "      <td>0.0</td>\n",
       "      <td>NaN</td>\n",
       "      <td>NaN</td>\n",
       "      <td>NaN</td>\n",
       "      <td>NaN</td>\n",
       "    </tr>\n",
       "    <tr>\n",
       "      <th>1</th>\n",
       "      <td>1077430</td>\n",
       "      <td>1314167</td>\n",
       "      <td>2500</td>\n",
       "      <td>2500</td>\n",
       "      <td>2500.0</td>\n",
       "      <td>60 months</td>\n",
       "      <td>15.27%</td>\n",
       "      <td>59.83</td>\n",
       "      <td>C</td>\n",
       "      <td>C4</td>\n",
       "      <td>...</td>\n",
       "      <td>NaN</td>\n",
       "      <td>NaN</td>\n",
       "      <td>NaN</td>\n",
       "      <td>NaN</td>\n",
       "      <td>0.0</td>\n",
       "      <td>0.0</td>\n",
       "      <td>NaN</td>\n",
       "      <td>NaN</td>\n",
       "      <td>NaN</td>\n",
       "      <td>NaN</td>\n",
       "    </tr>\n",
       "    <tr>\n",
       "      <th>2</th>\n",
       "      <td>1077175</td>\n",
       "      <td>1313524</td>\n",
       "      <td>2400</td>\n",
       "      <td>2400</td>\n",
       "      <td>2400.0</td>\n",
       "      <td>36 months</td>\n",
       "      <td>15.96%</td>\n",
       "      <td>84.33</td>\n",
       "      <td>C</td>\n",
       "      <td>C5</td>\n",
       "      <td>...</td>\n",
       "      <td>NaN</td>\n",
       "      <td>NaN</td>\n",
       "      <td>NaN</td>\n",
       "      <td>NaN</td>\n",
       "      <td>0.0</td>\n",
       "      <td>0.0</td>\n",
       "      <td>NaN</td>\n",
       "      <td>NaN</td>\n",
       "      <td>NaN</td>\n",
       "      <td>NaN</td>\n",
       "    </tr>\n",
       "    <tr>\n",
       "      <th>3</th>\n",
       "      <td>1076863</td>\n",
       "      <td>1277178</td>\n",
       "      <td>10000</td>\n",
       "      <td>10000</td>\n",
       "      <td>10000.0</td>\n",
       "      <td>36 months</td>\n",
       "      <td>13.49%</td>\n",
       "      <td>339.31</td>\n",
       "      <td>C</td>\n",
       "      <td>C1</td>\n",
       "      <td>...</td>\n",
       "      <td>NaN</td>\n",
       "      <td>NaN</td>\n",
       "      <td>NaN</td>\n",
       "      <td>NaN</td>\n",
       "      <td>0.0</td>\n",
       "      <td>0.0</td>\n",
       "      <td>NaN</td>\n",
       "      <td>NaN</td>\n",
       "      <td>NaN</td>\n",
       "      <td>NaN</td>\n",
       "    </tr>\n",
       "    <tr>\n",
       "      <th>4</th>\n",
       "      <td>1075358</td>\n",
       "      <td>1311748</td>\n",
       "      <td>3000</td>\n",
       "      <td>3000</td>\n",
       "      <td>3000.0</td>\n",
       "      <td>60 months</td>\n",
       "      <td>12.69%</td>\n",
       "      <td>67.79</td>\n",
       "      <td>B</td>\n",
       "      <td>B5</td>\n",
       "      <td>...</td>\n",
       "      <td>NaN</td>\n",
       "      <td>NaN</td>\n",
       "      <td>NaN</td>\n",
       "      <td>NaN</td>\n",
       "      <td>0.0</td>\n",
       "      <td>0.0</td>\n",
       "      <td>NaN</td>\n",
       "      <td>NaN</td>\n",
       "      <td>NaN</td>\n",
       "      <td>NaN</td>\n",
       "    </tr>\n",
       "    <tr>\n",
       "      <th>...</th>\n",
       "      <td>...</td>\n",
       "      <td>...</td>\n",
       "      <td>...</td>\n",
       "      <td>...</td>\n",
       "      <td>...</td>\n",
       "      <td>...</td>\n",
       "      <td>...</td>\n",
       "      <td>...</td>\n",
       "      <td>...</td>\n",
       "      <td>...</td>\n",
       "      <td>...</td>\n",
       "      <td>...</td>\n",
       "      <td>...</td>\n",
       "      <td>...</td>\n",
       "      <td>...</td>\n",
       "      <td>...</td>\n",
       "      <td>...</td>\n",
       "      <td>...</td>\n",
       "      <td>...</td>\n",
       "      <td>...</td>\n",
       "      <td>...</td>\n",
       "    </tr>\n",
       "    <tr>\n",
       "      <th>39712</th>\n",
       "      <td>92187</td>\n",
       "      <td>92174</td>\n",
       "      <td>2500</td>\n",
       "      <td>2500</td>\n",
       "      <td>1075.0</td>\n",
       "      <td>36 months</td>\n",
       "      <td>8.07%</td>\n",
       "      <td>78.42</td>\n",
       "      <td>A</td>\n",
       "      <td>A4</td>\n",
       "      <td>...</td>\n",
       "      <td>NaN</td>\n",
       "      <td>NaN</td>\n",
       "      <td>NaN</td>\n",
       "      <td>NaN</td>\n",
       "      <td>NaN</td>\n",
       "      <td>NaN</td>\n",
       "      <td>NaN</td>\n",
       "      <td>NaN</td>\n",
       "      <td>NaN</td>\n",
       "      <td>NaN</td>\n",
       "    </tr>\n",
       "    <tr>\n",
       "      <th>39713</th>\n",
       "      <td>90665</td>\n",
       "      <td>90607</td>\n",
       "      <td>8500</td>\n",
       "      <td>8500</td>\n",
       "      <td>875.0</td>\n",
       "      <td>36 months</td>\n",
       "      <td>10.28%</td>\n",
       "      <td>275.38</td>\n",
       "      <td>C</td>\n",
       "      <td>C1</td>\n",
       "      <td>...</td>\n",
       "      <td>NaN</td>\n",
       "      <td>NaN</td>\n",
       "      <td>NaN</td>\n",
       "      <td>NaN</td>\n",
       "      <td>NaN</td>\n",
       "      <td>NaN</td>\n",
       "      <td>NaN</td>\n",
       "      <td>NaN</td>\n",
       "      <td>NaN</td>\n",
       "      <td>NaN</td>\n",
       "    </tr>\n",
       "    <tr>\n",
       "      <th>39714</th>\n",
       "      <td>90395</td>\n",
       "      <td>90390</td>\n",
       "      <td>5000</td>\n",
       "      <td>5000</td>\n",
       "      <td>1325.0</td>\n",
       "      <td>36 months</td>\n",
       "      <td>8.07%</td>\n",
       "      <td>156.84</td>\n",
       "      <td>A</td>\n",
       "      <td>A4</td>\n",
       "      <td>...</td>\n",
       "      <td>NaN</td>\n",
       "      <td>NaN</td>\n",
       "      <td>NaN</td>\n",
       "      <td>NaN</td>\n",
       "      <td>NaN</td>\n",
       "      <td>NaN</td>\n",
       "      <td>NaN</td>\n",
       "      <td>NaN</td>\n",
       "      <td>NaN</td>\n",
       "      <td>NaN</td>\n",
       "    </tr>\n",
       "    <tr>\n",
       "      <th>39715</th>\n",
       "      <td>90376</td>\n",
       "      <td>89243</td>\n",
       "      <td>5000</td>\n",
       "      <td>5000</td>\n",
       "      <td>650.0</td>\n",
       "      <td>36 months</td>\n",
       "      <td>7.43%</td>\n",
       "      <td>155.38</td>\n",
       "      <td>A</td>\n",
       "      <td>A2</td>\n",
       "      <td>...</td>\n",
       "      <td>NaN</td>\n",
       "      <td>NaN</td>\n",
       "      <td>NaN</td>\n",
       "      <td>NaN</td>\n",
       "      <td>NaN</td>\n",
       "      <td>NaN</td>\n",
       "      <td>NaN</td>\n",
       "      <td>NaN</td>\n",
       "      <td>NaN</td>\n",
       "      <td>NaN</td>\n",
       "    </tr>\n",
       "    <tr>\n",
       "      <th>39716</th>\n",
       "      <td>87023</td>\n",
       "      <td>86999</td>\n",
       "      <td>7500</td>\n",
       "      <td>7500</td>\n",
       "      <td>800.0</td>\n",
       "      <td>36 months</td>\n",
       "      <td>13.75%</td>\n",
       "      <td>255.43</td>\n",
       "      <td>E</td>\n",
       "      <td>E2</td>\n",
       "      <td>...</td>\n",
       "      <td>NaN</td>\n",
       "      <td>NaN</td>\n",
       "      <td>NaN</td>\n",
       "      <td>NaN</td>\n",
       "      <td>NaN</td>\n",
       "      <td>NaN</td>\n",
       "      <td>NaN</td>\n",
       "      <td>NaN</td>\n",
       "      <td>NaN</td>\n",
       "      <td>NaN</td>\n",
       "    </tr>\n",
       "  </tbody>\n",
       "</table>\n",
       "<p>39717 rows × 111 columns</p>\n",
       "</div>"
      ],
      "text/plain": [
       "            id  member_id  loan_amnt  funded_amnt  funded_amnt_inv  \\\n",
       "0      1077501    1296599       5000         5000           4975.0   \n",
       "1      1077430    1314167       2500         2500           2500.0   \n",
       "2      1077175    1313524       2400         2400           2400.0   \n",
       "3      1076863    1277178      10000        10000          10000.0   \n",
       "4      1075358    1311748       3000         3000           3000.0   \n",
       "...        ...        ...        ...          ...              ...   \n",
       "39712    92187      92174       2500         2500           1075.0   \n",
       "39713    90665      90607       8500         8500            875.0   \n",
       "39714    90395      90390       5000         5000           1325.0   \n",
       "39715    90376      89243       5000         5000            650.0   \n",
       "39716    87023      86999       7500         7500            800.0   \n",
       "\n",
       "             term int_rate  installment grade sub_grade  ...  \\\n",
       "0       36 months   10.65%       162.87     B        B2  ...   \n",
       "1       60 months   15.27%        59.83     C        C4  ...   \n",
       "2       36 months   15.96%        84.33     C        C5  ...   \n",
       "3       36 months   13.49%       339.31     C        C1  ...   \n",
       "4       60 months   12.69%        67.79     B        B5  ...   \n",
       "...           ...      ...          ...   ...       ...  ...   \n",
       "39712   36 months    8.07%        78.42     A        A4  ...   \n",
       "39713   36 months   10.28%       275.38     C        C1  ...   \n",
       "39714   36 months    8.07%       156.84     A        A4  ...   \n",
       "39715   36 months    7.43%       155.38     A        A2  ...   \n",
       "39716   36 months   13.75%       255.43     E        E2  ...   \n",
       "\n",
       "      num_tl_90g_dpd_24m num_tl_op_past_12m pct_tl_nvr_dlq  percent_bc_gt_75  \\\n",
       "0                    NaN                NaN            NaN               NaN   \n",
       "1                    NaN                NaN            NaN               NaN   \n",
       "2                    NaN                NaN            NaN               NaN   \n",
       "3                    NaN                NaN            NaN               NaN   \n",
       "4                    NaN                NaN            NaN               NaN   \n",
       "...                  ...                ...            ...               ...   \n",
       "39712                NaN                NaN            NaN               NaN   \n",
       "39713                NaN                NaN            NaN               NaN   \n",
       "39714                NaN                NaN            NaN               NaN   \n",
       "39715                NaN                NaN            NaN               NaN   \n",
       "39716                NaN                NaN            NaN               NaN   \n",
       "\n",
       "      pub_rec_bankruptcies tax_liens tot_hi_cred_lim total_bal_ex_mort  \\\n",
       "0                      0.0       0.0             NaN               NaN   \n",
       "1                      0.0       0.0             NaN               NaN   \n",
       "2                      0.0       0.0             NaN               NaN   \n",
       "3                      0.0       0.0             NaN               NaN   \n",
       "4                      0.0       0.0             NaN               NaN   \n",
       "...                    ...       ...             ...               ...   \n",
       "39712                  NaN       NaN             NaN               NaN   \n",
       "39713                  NaN       NaN             NaN               NaN   \n",
       "39714                  NaN       NaN             NaN               NaN   \n",
       "39715                  NaN       NaN             NaN               NaN   \n",
       "39716                  NaN       NaN             NaN               NaN   \n",
       "\n",
       "      total_bc_limit total_il_high_credit_limit  \n",
       "0                NaN                        NaN  \n",
       "1                NaN                        NaN  \n",
       "2                NaN                        NaN  \n",
       "3                NaN                        NaN  \n",
       "4                NaN                        NaN  \n",
       "...              ...                        ...  \n",
       "39712            NaN                        NaN  \n",
       "39713            NaN                        NaN  \n",
       "39714            NaN                        NaN  \n",
       "39715            NaN                        NaN  \n",
       "39716            NaN                        NaN  \n",
       "\n",
       "[39717 rows x 111 columns]"
      ]
     },
     "execution_count": 93,
     "metadata": {},
     "output_type": "execute_result"
    }
   ],
   "source": [
    "loan = pd.read_csv('C:\\\\Users\\\\SunaynaPC\\\\Downloads\\\\loan\\\\loan.csv')\n",
    "loan"
   ]
  },
  {
   "cell_type": "markdown",
   "id": "c1781785",
   "metadata": {},
   "source": [
    "__Checking Rows With null entries__"
   ]
  },
  {
   "cell_type": "code",
   "execution_count": 94,
   "id": "49ac4df6",
   "metadata": {},
   "outputs": [
    {
     "data": {
      "text/plain": [
       "id                                0\n",
       "member_id                         0\n",
       "loan_amnt                         0\n",
       "funded_amnt                       0\n",
       "funded_amnt_inv                   0\n",
       "                              ...  \n",
       "tax_liens                        39\n",
       "tot_hi_cred_lim               39717\n",
       "total_bal_ex_mort             39717\n",
       "total_bc_limit                39717\n",
       "total_il_high_credit_limit    39717\n",
       "Length: 111, dtype: int64"
      ]
     },
     "execution_count": 94,
     "metadata": {},
     "output_type": "execute_result"
    }
   ],
   "source": [
    "loan.isnull().sum()"
   ]
  },
  {
   "cell_type": "markdown",
   "id": "e5b5771e",
   "metadata": {},
   "source": [
    "#### Data Cleaning and Manipulation"
   ]
  },
  {
   "cell_type": "markdown",
   "id": "93527446",
   "metadata": {},
   "source": [
    "__Removing records where null percentage__ "
   ]
  },
  {
   "cell_type": "code",
   "execution_count": 95,
   "id": "a24d5134",
   "metadata": {},
   "outputs": [
    {
     "data": {
      "text/plain": [
       "(39717, 55)"
      ]
     },
     "execution_count": 95,
     "metadata": {},
     "output_type": "execute_result"
    }
   ],
   "source": [
    "#Removing records where null percentage \n",
    "null_percentage=loan.isnull().sum()/loan.shape[0]\n",
    "columns=null_percentage[null_percentage>0.90].keys()\n",
    "loan=loan.drop(columns,axis=1)\n",
    "loan.shape"
   ]
  },
  {
   "cell_type": "markdown",
   "id": "a90443f0",
   "metadata": {},
   "source": [
    "__cleaning irrelevant columns__"
   ]
  },
  {
   "cell_type": "code",
   "execution_count": 96,
   "id": "9637a1d7",
   "metadata": {},
   "outputs": [
    {
     "data": {
      "text/plain": [
       "(39717, 22)"
      ]
     },
     "execution_count": 96,
     "metadata": {},
     "output_type": "execute_result"
    }
   ],
   "source": [
    "#cleaning irrelevant columns having null values\n",
    "loan=loan.drop(\"mths_since_last_delinq\",axis=1)\n",
    "loan=loan.drop(\"desc\",axis=1)\n",
    "\n",
    "#cleaning irrelevant columns\n",
    "loan=loan.drop(\"url\",axis=1)\n",
    "loan=loan.drop(\"zip_code\",axis=1)\n",
    "\n",
    "#Removed title as purpose already providing same info\n",
    "loan=loan.drop(\"title\",axis=1)\n",
    "\n",
    "\n",
    "#no categorization available in the columns\n",
    "loan=loan.drop(\"initial_list_status\",axis=1)\n",
    "loan=loan.drop(\"policy_code\",axis=1)\n",
    "loan=loan.drop(\"pymnt_plan\",axis=1)\n",
    "loan=loan.drop(\"application_type\",axis=1)\n",
    "loan=loan.drop(\"acc_now_delinq\",axis=1)\n",
    "loan=loan.drop(\"chargeoff_within_12_mths\",axis=1)\n",
    "loan=loan.drop(\"delinq_amnt\",axis=1)\n",
    "loan=loan.drop(\"tax_liens\",axis=1)\n",
    "loan=loan.drop(\"collections_12_mths_ex_med\",axis=1)\n",
    "\n",
    "\n",
    "#Customer behavior variables\n",
    "loan=loan.drop(\"delinq_2yrs\",axis=1)\n",
    "loan=loan.drop(\"earliest_cr_line\",axis=1)\n",
    "loan=loan.drop(\"inq_last_6mths\",axis=1)\n",
    "loan=loan.drop(\"open_acc\",axis=1)\n",
    "loan=loan.drop(\"revol_bal\",axis=1)\n",
    "loan=loan.drop(\"revol_util\",axis=1)\n",
    "loan=loan.drop(\"total_acc\",axis=1)\n",
    "loan=loan.drop(\"out_prncp\",axis=1)\n",
    "loan=loan.drop(\"out_prncp_inv\",axis=1)\n",
    "loan=loan.drop(\"total_pymnt\",axis=1)\n",
    "loan=loan.drop(\"total_pymnt_inv\",axis=1)\n",
    "loan=loan.drop(\"total_rec_prncp\",axis=1)\n",
    "loan=loan.drop(\"total_rec_int\",axis=1)\n",
    "loan=loan.drop(\"total_rec_late_fee\",axis=1)\n",
    "loan=loan.drop(\"recoveries\",axis=1)\n",
    "loan=loan.drop(\"collection_recovery_fee\",axis=1)\n",
    "loan=loan.drop(\"last_pymnt_d\",axis=1)\n",
    "loan=loan.drop(\"last_pymnt_amnt\",axis=1)\n",
    "loan=loan.drop(\"last_credit_pull_d\",axis=1)\n",
    "\n",
    "loan.shape"
   ]
  },
  {
   "cell_type": "markdown",
   "id": "3761db8d",
   "metadata": {},
   "source": [
    "__Imputing null values__"
   ]
  },
  {
   "cell_type": "code",
   "execution_count": 97,
   "id": "0bb076fd",
   "metadata": {
    "scrolled": false
   },
   "outputs": [],
   "source": [
    "#Filling with Unknown where employee title is not present\n",
    "loan[\"emp_title\"]=loan[\"emp_title\"].fillna(\"Unkown\")"
   ]
  },
  {
   "cell_type": "code",
   "execution_count": 98,
   "id": "1e92dc03",
   "metadata": {},
   "outputs": [
    {
     "data": {
      "text/plain": [
       "0.8473050197507596"
      ]
     },
     "execution_count": 98,
     "metadata": {},
     "output_type": "execute_result"
    }
   ],
   "source": [
    "loan[\"pub_rec\"].corr(loan[\"pub_rec_bankruptcies\"])"
   ]
  },
  {
   "cell_type": "code",
   "execution_count": 99,
   "id": "5e9f7553",
   "metadata": {},
   "outputs": [
    {
     "data": {
      "text/plain": [
       "(39717, 21)"
      ]
     },
     "execution_count": 99,
     "metadata": {},
     "output_type": "execute_result"
    }
   ],
   "source": [
    "#Based on correlation between these two variables substituting the values\n",
    "loan[\"pub_rec_bankruptcies\"]=loan[\"pub_rec_bankruptcies\"].fillna(loan[\"pub_rec\"])\n",
    "loan=loan.drop(\"pub_rec\",axis=1)\n",
    "loan.shape"
   ]
  },
  {
   "cell_type": "code",
   "execution_count": 100,
   "id": "f7957293",
   "metadata": {},
   "outputs": [],
   "source": [
    "#Filling with Unknown where employee length is not present\n",
    "loan[\"emp_length\"]=loan[\"emp_length\"].fillna(\"Unkown\")"
   ]
  },
  {
   "cell_type": "markdown",
   "id": "3c0ccf55",
   "metadata": {},
   "source": [
    "__Refining Values to get new columns__"
   ]
  },
  {
   "cell_type": "code",
   "execution_count": 101,
   "id": "97db5e10",
   "metadata": {},
   "outputs": [
    {
     "data": {
      "text/plain": [
       "(39717, 21)"
      ]
     },
     "execution_count": 101,
     "metadata": {},
     "output_type": "execute_result"
    }
   ],
   "source": [
    "#Refining values\n",
    "loan[\"int_rate\"]=loan[\"int_rate\"].str.replace('%','').astype(float)\n",
    "loan[\"term\"]=loan[\"term\"].str.replace(' months','').astype(int)\n",
    "loan.shape"
   ]
  },
  {
   "cell_type": "code",
   "execution_count": 102,
   "id": "3fd0d388",
   "metadata": {},
   "outputs": [],
   "source": [
    "def autopct_format(values):\n",
    "        def my_format(pct):\n",
    "            total = sum(values)\n",
    "            val = int(round(pct*total/100.0))\n",
    "            return '{:.1f}%\\n({v:d})'.format(pct, v=val)\n",
    "        return my_format"
   ]
  },
  {
   "cell_type": "code",
   "execution_count": 103,
   "id": "050bbb37",
   "metadata": {},
   "outputs": [
    {
     "data": {
      "image/png": "[encoded data removed]",
      "text/plain": [
       "<Figure size 640x480 with 1 Axes>"
      ]
     },
     "metadata": {},
     "output_type": "display_data"
    }
   ],
   "source": [
    "loan_data=loan['loan_status'].value_counts()\n",
    "plt.pie(loan_data,labels = loan_data.index,autopct=autopct_format(loan_data))\n",
    "plt.show()"
   ]
  },
  {
   "cell_type": "markdown",
   "id": "d62a5668",
   "metadata": {},
   "source": [
    "__Removing undeterministic value__"
   ]
  },
  {
   "cell_type": "code",
   "execution_count": 104,
   "id": "ee4dbcde",
   "metadata": {},
   "outputs": [
    {
     "data": {
      "text/plain": [
       "id                        int64\n",
       "member_id                 int64\n",
       "loan_amnt                 int64\n",
       "funded_amnt               int64\n",
       "funded_amnt_inv         float64\n",
       "term                      int32\n",
       "int_rate                float64\n",
       "installment             float64\n",
       "grade                    object\n",
       "sub_grade                object\n",
       "emp_title                object\n",
       "emp_length               object\n",
       "home_ownership           object\n",
       "annual_inc              float64\n",
       "verification_status      object\n",
       "issue_d                  object\n",
       "loan_status              object\n",
       "purpose                  object\n",
       "addr_state               object\n",
       "dti                     float64\n",
       "pub_rec_bankruptcies    float64\n",
       "dtype: object"
      ]
     },
     "execution_count": 104,
     "metadata": {},
     "output_type": "execute_result"
    }
   ],
   "source": [
    "#Removing loan status as current as it doesn't provide input to problem statement\n",
    "loan.drop(loan[loan['loan_status']== 'Current'].index, inplace = True)\n",
    "loan.shape\n",
    "final_loan_data_cleaned=loan\n",
    "final_loan_data_cleaned.dtypes"
   ]
  },
  {
   "cell_type": "markdown",
   "id": "015aef70",
   "metadata": {},
   "source": [
    "#### Data Analysis"
   ]
  },
  {
   "cell_type": "markdown",
   "id": "23432f52",
   "metadata": {},
   "source": [
    "##### Data Undestanding after cleaning\n",
    "__Checking number of categorical and numerical columns available__"
   ]
  },
  {
   "cell_type": "code",
   "execution_count": 105,
   "id": "949c4db8",
   "metadata": {
    "scrolled": true
   },
   "outputs": [
    {
     "name": "stdout",
     "output_type": "stream",
     "text": [
      "There are 11 numerical and 10 categorical features in the loan data\n"
     ]
    }
   ],
   "source": [
    "numeric_data = final_loan_data_cleaned.select_dtypes(include = [np.number])\n",
    "\n",
    "categorical_data = final_loan_data_cleaned.select_dtypes(exclude = [np.number])\n",
    "\n",
    "print('There are {0} numerical and {1} categorical features in the loan data'.\\\n",
    "     format(numeric_data.shape[1], categorical_data.shape[1]))"
   ]
  },
  {
   "cell_type": "markdown",
   "id": "a9465da3",
   "metadata": {},
   "source": [
    "###### Univariate Analysis"
   ]
  },
  {
   "cell_type": "code",
   "execution_count": 106,
   "id": "eb6fa3b6",
   "metadata": {},
   "outputs": [
    {
     "data": {
      "text/html": [
       "<div>\n",
       "<style scoped>\n",
       "    .dataframe tbody tr th:only-of-type {\n",
       "        vertical-align: middle;\n",
       "    }\n",
       "\n",
       "    .dataframe tbody tr th {\n",
       "        vertical-align: top;\n",
       "    }\n",
       "\n",
       "    .dataframe thead th {\n",
       "        text-align: right;\n",
       "    }\n",
       "</style>\n",
       "<table border=\"1\" class=\"dataframe\">\n",
       "  <thead>\n",
       "    <tr style=\"text-align: right;\">\n",
       "      <th></th>\n",
       "      <th>id</th>\n",
       "      <th>member_id</th>\n",
       "      <th>loan_amnt</th>\n",
       "      <th>funded_amnt</th>\n",
       "      <th>funded_amnt_inv</th>\n",
       "      <th>term</th>\n",
       "      <th>int_rate</th>\n",
       "      <th>installment</th>\n",
       "      <th>annual_inc</th>\n",
       "      <th>dti</th>\n",
       "      <th>pub_rec_bankruptcies</th>\n",
       "    </tr>\n",
       "  </thead>\n",
       "  <tbody>\n",
       "    <tr>\n",
       "      <th>count</th>\n",
       "      <td>3.857700e+04</td>\n",
       "      <td>3.857700e+04</td>\n",
       "      <td>38577.000000</td>\n",
       "      <td>38577.000000</td>\n",
       "      <td>38577.000000</td>\n",
       "      <td>38577.000000</td>\n",
       "      <td>38577.000000</td>\n",
       "      <td>38577.000000</td>\n",
       "      <td>3.857700e+04</td>\n",
       "      <td>38577.000000</td>\n",
       "      <td>38577.000000</td>\n",
       "    </tr>\n",
       "    <tr>\n",
       "      <th>mean</th>\n",
       "      <td>6.763787e+05</td>\n",
       "      <td>8.422843e+05</td>\n",
       "      <td>11047.025430</td>\n",
       "      <td>10784.058506</td>\n",
       "      <td>10222.481123</td>\n",
       "      <td>41.898437</td>\n",
       "      <td>11.932219</td>\n",
       "      <td>322.466318</td>\n",
       "      <td>6.877797e+04</td>\n",
       "      <td>13.272727</td>\n",
       "      <td>0.043238</td>\n",
       "    </tr>\n",
       "    <tr>\n",
       "      <th>std</th>\n",
       "      <td>2.092639e+05</td>\n",
       "      <td>2.644519e+05</td>\n",
       "      <td>7348.441646</td>\n",
       "      <td>7090.306027</td>\n",
       "      <td>7022.720644</td>\n",
       "      <td>10.333136</td>\n",
       "      <td>3.691327</td>\n",
       "      <td>208.639215</td>\n",
       "      <td>6.421868e+04</td>\n",
       "      <td>6.673044</td>\n",
       "      <td>0.204159</td>\n",
       "    </tr>\n",
       "    <tr>\n",
       "      <th>min</th>\n",
       "      <td>5.473400e+04</td>\n",
       "      <td>7.069900e+04</td>\n",
       "      <td>500.000000</td>\n",
       "      <td>500.000000</td>\n",
       "      <td>0.000000</td>\n",
       "      <td>36.000000</td>\n",
       "      <td>5.420000</td>\n",
       "      <td>15.690000</td>\n",
       "      <td>4.000000e+03</td>\n",
       "      <td>0.000000</td>\n",
       "      <td>0.000000</td>\n",
       "    </tr>\n",
       "    <tr>\n",
       "      <th>25%</th>\n",
       "      <td>5.120330e+05</td>\n",
       "      <td>6.611310e+05</td>\n",
       "      <td>5300.000000</td>\n",
       "      <td>5200.000000</td>\n",
       "      <td>5000.000000</td>\n",
       "      <td>36.000000</td>\n",
       "      <td>8.940000</td>\n",
       "      <td>165.740000</td>\n",
       "      <td>4.000000e+04</td>\n",
       "      <td>8.130000</td>\n",
       "      <td>0.000000</td>\n",
       "    </tr>\n",
       "    <tr>\n",
       "      <th>50%</th>\n",
       "      <td>6.564230e+05</td>\n",
       "      <td>8.392920e+05</td>\n",
       "      <td>9600.000000</td>\n",
       "      <td>9550.000000</td>\n",
       "      <td>8733.440000</td>\n",
       "      <td>36.000000</td>\n",
       "      <td>11.710000</td>\n",
       "      <td>277.860000</td>\n",
       "      <td>5.886800e+04</td>\n",
       "      <td>13.370000</td>\n",
       "      <td>0.000000</td>\n",
       "    </tr>\n",
       "    <tr>\n",
       "      <th>75%</th>\n",
       "      <td>8.291460e+05</td>\n",
       "      <td>1.037336e+06</td>\n",
       "      <td>15000.000000</td>\n",
       "      <td>15000.000000</td>\n",
       "      <td>14000.000000</td>\n",
       "      <td>36.000000</td>\n",
       "      <td>14.380000</td>\n",
       "      <td>425.550000</td>\n",
       "      <td>8.200000e+04</td>\n",
       "      <td>18.560000</td>\n",
       "      <td>0.000000</td>\n",
       "    </tr>\n",
       "    <tr>\n",
       "      <th>max</th>\n",
       "      <td>1.077501e+06</td>\n",
       "      <td>1.314167e+06</td>\n",
       "      <td>35000.000000</td>\n",
       "      <td>35000.000000</td>\n",
       "      <td>35000.000000</td>\n",
       "      <td>60.000000</td>\n",
       "      <td>24.400000</td>\n",
       "      <td>1305.190000</td>\n",
       "      <td>6.000000e+06</td>\n",
       "      <td>29.990000</td>\n",
       "      <td>2.000000</td>\n",
       "    </tr>\n",
       "  </tbody>\n",
       "</table>\n",
       "</div>"
      ],
      "text/plain": [
       "                 id     member_id     loan_amnt   funded_amnt  \\\n",
       "count  3.857700e+04  3.857700e+04  38577.000000  38577.000000   \n",
       "mean   6.763787e+05  8.422843e+05  11047.025430  10784.058506   \n",
       "std    2.092639e+05  2.644519e+05   7348.441646   7090.306027   \n",
       "min    5.473400e+04  7.069900e+04    500.000000    500.000000   \n",
       "25%    5.120330e+05  6.611310e+05   5300.000000   5200.000000   \n",
       "50%    6.564230e+05  8.392920e+05   9600.000000   9550.000000   \n",
       "75%    8.291460e+05  1.037336e+06  15000.000000  15000.000000   \n",
       "max    1.077501e+06  1.314167e+06  35000.000000  35000.000000   \n",
       "\n",
       "       funded_amnt_inv          term      int_rate   installment  \\\n",
       "count     38577.000000  38577.000000  38577.000000  38577.000000   \n",
       "mean      10222.481123     41.898437     11.932219    322.466318   \n",
       "std        7022.720644     10.333136      3.691327    208.639215   \n",
       "min           0.000000     36.000000      5.420000     15.690000   \n",
       "25%        5000.000000     36.000000      8.940000    165.740000   \n",
       "50%        8733.440000     36.000000     11.710000    277.860000   \n",
       "75%       14000.000000     36.000000     14.380000    425.550000   \n",
       "max       35000.000000     60.000000     24.400000   1305.190000   \n",
       "\n",
       "         annual_inc           dti  pub_rec_bankruptcies  \n",
       "count  3.857700e+04  38577.000000          38577.000000  \n",
       "mean   6.877797e+04     13.272727              0.043238  \n",
       "std    6.421868e+04      6.673044              0.204159  \n",
       "min    4.000000e+03      0.000000              0.000000  \n",
       "25%    4.000000e+04      8.130000              0.000000  \n",
       "50%    5.886800e+04     13.370000              0.000000  \n",
       "75%    8.200000e+04     18.560000              0.000000  \n",
       "max    6.000000e+06     29.990000              2.000000  "
      ]
     },
     "execution_count": 106,
     "metadata": {},
     "output_type": "execute_result"
    }
   ],
   "source": [
    "final_loan_data_cleaned.describe()"
   ]
  },
  {
   "cell_type": "code",
   "execution_count": 107,
   "id": "34b73a4d",
   "metadata": {
    "scrolled": true
   },
   "outputs": [
    {
     "data": {
      "image/png": "[encoded data removed]",
      "text/plain": [
       "<Figure size 640x480 with 1 Axes>"
      ]
     },
     "metadata": {},
     "output_type": "display_data"
    }
   ],
   "source": [
    "final_loan=final_loan_data_cleaned['loan_status'].value_counts()\n",
    "plt.pie(final_loan,labels = final_loan.index,autopct=autopct_format(final_loan))\n",
    "plt.show()"
   ]
  },
  {
   "cell_type": "markdown",
   "id": "8c3f6966",
   "metadata": {},
   "source": [
    "__Checking All numerical variables__"
   ]
  },
  {
   "cell_type": "markdown",
   "id": "fac8dc61",
   "metadata": {},
   "source": [
    "Checking outliers for requested loan amount, funded amount suggested and funded amount approved by investers"
   ]
  },
  {
   "cell_type": "code",
   "execution_count": 163,
   "id": "127be87b",
   "metadata": {},
   "outputs": [
    {
     "data": {
      "image/png": "[encoded data removed]",
      "text/plain": [
       "<Figure size 700x700 with 1 Axes>"
      ]
     },
     "metadata": {},
     "output_type": "display_data"
    }
   ],
   "source": [
    "plt.figure(figsize=(7, 7))\n",
    "colors = ['lightyellow', 'lightblue', 'lightgreen']\n",
    "box=plt.boxplot(final_loan_data_cleaned[['loan_amnt','funded_amnt','funded_amnt_inv']],patch_artist=True)\n",
    "for patch, color in zip(box['boxes'], colors):\n",
    "    patch.set_color(color)\n",
    "plt.xticks([1,2,3],['loan_amnt','funded_amnt','funded_amnt_inv'])\n",
    "plt.show()"
   ]
  },
  {
   "cell_type": "markdown",
   "id": "1a55bb37",
   "metadata": {},
   "source": [
    "checking loan amount distribution and amounts which have higher number of requests"
   ]
  },
  {
   "cell_type": "code",
   "execution_count": 124,
   "id": "1d114fe2",
   "metadata": {},
   "outputs": [
    {
     "data": {
      "text/plain": [
       "<seaborn.axisgrid.FacetGrid at 0x24555898400>"
      ]
     },
     "execution_count": 124,
     "metadata": {},
     "output_type": "execute_result"
    },
    {
     "data": {
      "image/png": "[encoded data removed]",
      "text/plain": [
       "<Figure size 500x500 with 1 Axes>"
      ]
     },
     "metadata": {},
     "output_type": "display_data"
    }
   ],
   "source": [
    "loan_amnt_dist = final_loan_data_cleaned[\"loan_amnt\"]\n",
    "sns.displot(loan_amnt_dist)"
   ]
  },
  {
   "cell_type": "markdown",
   "id": "1a9f7a02",
   "metadata": {},
   "source": [
    "Box Plot to compare annual income and requested loan amount"
   ]
  },
  {
   "cell_type": "code",
   "execution_count": 164,
   "id": "e15f8a77",
   "metadata": {},
   "outputs": [
    {
     "data": {
      "image/png": "[encoded data removed]",
      "text/plain": [
       "<Figure size 500x500 with 1 Axes>"
      ]
     },
     "metadata": {},
     "output_type": "display_data"
    }
   ],
   "source": [
    "plt.figure(figsize=(5, 5))\n",
    "plt.yscale('log')\n",
    "colors = ['lightblue', 'lightgreen']\n",
    "box=plt.boxplot(final_loan_data_cleaned[['annual_inc','loan_amnt']],patch_artist=True)\n",
    "for patch, color in zip(box['boxes'], colors):\n",
    "    patch.set_color(color)\n",
    "plt.xticks([1,2],['annual_inc','loan_amnt'])\n",
    "plt.show()"
   ]
  },
  {
   "cell_type": "raw",
   "id": "a56b9924",
   "metadata": {},
   "source": [
    "Box plot to check outliers in installment"
   ]
  },
  {
   "cell_type": "code",
   "execution_count": 169,
   "id": "9373ef1c",
   "metadata": {},
   "outputs": [
    {
     "data": {
      "image/png": "[encoded data removed]",
      "text/plain": [
       "<Figure size 500x500 with 1 Axes>"
      ]
     },
     "metadata": {},
     "output_type": "display_data"
    }
   ],
   "source": [
    "plt.figure(figsize=(5, 5))\n",
    "box=plt.boxplot(final_loan_data_cleaned[['installment']],patch_artist=True)\n",
    "box['boxes'][0].set_color('lightgreen')\n",
    "plt.xticks([1],['installment'])\n",
    "plt.show()"
   ]
  },
  {
   "cell_type": "markdown",
   "id": "c38669bb",
   "metadata": {},
   "source": [
    "Box Plot to check outliers in dti"
   ]
  },
  {
   "cell_type": "code",
   "execution_count": 170,
   "id": "7d4cf04d",
   "metadata": {},
   "outputs": [
    {
     "data": {
      "image/png": "[encoded data removed]",
      "text/plain": [
       "<Figure size 500x500 with 1 Axes>"
      ]
     },
     "metadata": {},
     "output_type": "display_data"
    }
   ],
   "source": [
    "plt.figure(figsize=(5, 5))\n",
    "box=plt.boxplot(final_loan_data_cleaned[['dti']],patch_artist=True)\n",
    "box['boxes'][0].set_color('lightgreen')\n",
    "plt.xticks([1],['dti'])\n",
    "plt.show()"
   ]
  },
  {
   "cell_type": "markdown",
   "id": "b023892c",
   "metadata": {},
   "source": [
    "__removing outliers in income, installment, loan amount, funded amount and funded amount inv\n",
    "Same with installment__"
   ]
  },
  {
   "cell_type": "code",
   "execution_count": 172,
   "id": "2b87787b",
   "metadata": {},
   "outputs": [
    {
     "data": {
      "text/plain": [
       "count     38191.000000\n",
       "mean      65313.610090\n",
       "std       35150.773045\n",
       "min        4000.000000\n",
       "25%       40000.000000\n",
       "50%       58000.000000\n",
       "75%       80232.000000\n",
       "max      234000.000000\n",
       "Name: annual_inc, dtype: float64"
      ]
     },
     "execution_count": 172,
     "metadata": {},
     "output_type": "execute_result"
    }
   ],
   "source": [
    "final_loan_data_cleaned = final_loan_data_cleaned[final_loan_data_cleaned[\"annual_inc\"] < final_loan_data_cleaned[\"annual_inc\"].quantile(0.99)]\n",
    "final_loan_data_cleaned[\"annual_inc\"].describe()"
   ]
  },
  {
   "cell_type": "code",
   "execution_count": 173,
   "id": "6a47efe0",
   "metadata": {},
   "outputs": [
    {
     "data": {
      "text/plain": [
       "count    37809.000000\n",
       "mean       312.538108\n",
       "std        192.994925\n",
       "min         15.690000\n",
       "25%        164.560000\n",
       "50%        273.780000\n",
       "75%        413.710000\n",
       "max        920.850000\n",
       "Name: installment, dtype: float64"
      ]
     },
     "execution_count": 173,
     "metadata": {},
     "output_type": "execute_result"
    }
   ],
   "source": [
    "final_loan_data_cleaned = final_loan_data_cleaned[final_loan_data_cleaned[\"installment\"] < final_loan_data_cleaned[\"installment\"].quantile(0.99)]\n",
    "final_loan_data_cleaned[\"installment\"].describe()"
   ]
  },
  {
   "cell_type": "code",
   "execution_count": 175,
   "id": "25dbd774",
   "metadata": {},
   "outputs": [
    {
     "data": {
      "text/plain": [
       "count    37413.000000\n",
       "mean     10490.477241\n",
       "std       6545.382409\n",
       "min        500.000000\n",
       "25%       5000.000000\n",
       "50%       9300.000000\n",
       "75%      15000.000000\n",
       "max      31825.000000\n",
       "Name: loan_amnt, dtype: float64"
      ]
     },
     "execution_count": 175,
     "metadata": {},
     "output_type": "execute_result"
    }
   ],
   "source": [
    "final_loan_data_cleaned = final_loan_data_cleaned[final_loan_data_cleaned[\"loan_amnt\"] < final_loan_data_cleaned[\"loan_amnt\"].quantile(0.99)]\n",
    "final_loan_data_cleaned[\"loan_amnt\"].describe()"
   ]
  },
  {
   "cell_type": "code",
   "execution_count": 176,
   "id": "1cb8b310",
   "metadata": {},
   "outputs": [
    {
     "data": {
      "text/plain": [
       "count    37035.000000\n",
       "mean     10062.051438\n",
       "std       6055.432555\n",
       "min        500.000000\n",
       "25%       5000.000000\n",
       "50%       9000.000000\n",
       "75%      14000.000000\n",
       "max      27525.000000\n",
       "Name: funded_amnt, dtype: float64"
      ]
     },
     "execution_count": 176,
     "metadata": {},
     "output_type": "execute_result"
    }
   ],
   "source": [
    "final_loan_data_cleaned = final_loan_data_cleaned[final_loan_data_cleaned[\"funded_amnt\"] < final_loan_data_cleaned[\"funded_amnt\"].quantile(0.99)]\n",
    "final_loan_data_cleaned[\"funded_amnt\"].describe()"
   ]
  },
  {
   "cell_type": "code",
   "execution_count": 177,
   "id": "941729df",
   "metadata": {},
   "outputs": [
    {
     "data": {
      "text/plain": [
       "count    36643.000000\n",
       "mean      9351.307474\n",
       "std       5801.819214\n",
       "min          0.000000\n",
       "25%       4975.000000\n",
       "50%       8000.000000\n",
       "75%      12889.555435\n",
       "max      24974.448730\n",
       "Name: funded_amnt_inv, dtype: float64"
      ]
     },
     "execution_count": 177,
     "metadata": {},
     "output_type": "execute_result"
    }
   ],
   "source": [
    "final_loan_data_cleaned = final_loan_data_cleaned[final_loan_data_cleaned[\"funded_amnt_inv\"] < final_loan_data_cleaned[\"funded_amnt_inv\"].quantile(0.99)]\n",
    "final_loan_data_cleaned[\"funded_amnt_inv\"].describe()"
   ]
  },
  {
   "cell_type": "markdown",
   "id": "6664bbef",
   "metadata": {},
   "source": [
    "Getting purpose count mapping"
   ]
  },
  {
   "cell_type": "code",
   "execution_count": 180,
   "id": "9d997a66",
   "metadata": {
    "scrolled": false
   },
   "outputs": [
    {
     "data": {
      "image/png": "[encoded data removed]",
      "text/plain": [
       "<Figure size 500x500 with 1 Axes>"
      ]
     },
     "metadata": {},
     "output_type": "display_data"
    }
   ],
   "source": [
    "plt.figure(figsize=(5, 5))\n",
    "sns.countplot(x=final_loan_data_cleaned[\"purpose\"])\n",
    "plt.xlabel('Purpose')\n",
    "plt.ylabel('Count')\n",
    "plt.title('Purpose Distribution')\n",
    "plt.xticks(rotation = 90)\n",
    "plt.show()"
   ]
  },
  {
   "cell_type": "markdown",
   "id": "1a5a5816",
   "metadata": {},
   "source": [
    "Getting Loan distribution"
   ]
  },
  {
   "cell_type": "code",
   "execution_count": 181,
   "id": "192aca11",
   "metadata": {},
   "outputs": [
    {
     "data": {
      "image/png": "[encoded data removed]",
      "text/plain": [
       "<Figure size 500x500 with 1 Axes>"
      ]
     },
     "metadata": {},
     "output_type": "display_data"
    }
   ],
   "source": [
    "plt.figure(figsize=(5, 5))\n",
    "sns.countplot(x=final_loan_data_cleaned[\"loan_status\"])\n",
    "plt.xlabel('Loan Status')\n",
    "plt.ylabel('Count')\n",
    "plt.title('Loan Distribution')\n",
    "plt.xticks(rotation = 90)\n",
    "plt.show()"
   ]
  },
  {
   "cell_type": "markdown",
   "id": "4730374d",
   "metadata": {},
   "source": [
    "Home ownership distribution"
   ]
  },
  {
   "cell_type": "code",
   "execution_count": 182,
   "id": "ee73d15f",
   "metadata": {},
   "outputs": [
    {
     "data": {
      "image/png": "[encoded data removed]",
      "text/plain": [
       "<Figure size 500x500 with 1 Axes>"
      ]
     },
     "metadata": {},
     "output_type": "display_data"
    }
   ],
   "source": [
    "plt.figure(figsize=(5, 5))\n",
    "sns.countplot(x=final_loan_data_cleaned[\"emp_length\"])\n",
    "plt.xlabel('Employment Length')\n",
    "plt.ylabel('Count')\n",
    "plt.title('Employment Length Distribution')\n",
    "plt.xticks(rotation = 90)\n",
    "plt.show()"
   ]
  },
  {
   "cell_type": "code",
   "execution_count": null,
   "id": "09603222",
   "metadata": {},
   "outputs": [],
   "source": []
  },
  {
   "cell_type": "code",
   "execution_count": null,
   "id": "799fb36c",
   "metadata": {},
   "outputs": [],
   "source": []
  }
 ],
 "metadata": {
  "kernelspec": {
   "display_name": "Python 3 (ipykernel)",
   "language": "python",
   "name": "python3"
  },
  "language_info": {
   "codemirror_mode": {
    "name": "ipython",
    "version": 3
   },
   "file_extension": ".py",
   "mimetype": "text/x-python",
   "name": "python",
   "nbconvert_exporter": "python",
   "pygments_lexer": "ipython3",
   "version": "3.9.13"
  }
 },
 "nbformat": 4,
 "nbformat_minor": 5
}
